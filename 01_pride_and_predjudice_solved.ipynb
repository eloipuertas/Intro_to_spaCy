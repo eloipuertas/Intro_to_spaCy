{
 "cells": [
  {
   "cell_type": "markdown",
   "metadata": {},
   "source": [
    "# Pride & Prejudice analysis"
   ]
  },
  {
   "cell_type": "markdown",
   "metadata": {},
   "source": [
    "# Real text analysis\n",
    "\n",
    "We got familiar with Spacy. In the next section we are going to analyse a real text (Pride & Prejudice). \n",
    "\n",
    "We would like to:\n",
    "* Extract the names of all the characters from the book (e.g. Elizabeth, Darcy, Bingley)\n",
    "* Visualize characters' occurences with regards to relative position in the book\n",
    "* Authomatically describe any character from the book\n",
    "* Find out which characters have been mentioned in a context of marriage\n",
    "* Build keywords extraction that could be used to display a word cloud ([example](http://www.cytora.com/data-samples.html))"
   ]
  },
  {
   "cell_type": "markdown",
   "metadata": {},
   "source": [
    "## Load text file"
   ]
  },
  {
   "cell_type": "code",
   "execution_count": 1,
   "metadata": {},
   "outputs": [],
   "source": [
    "def read_file(file_name):\n",
    "    with open(file_name, 'r') as file:\n",
    "        return file.read()"
   ]
  },
  {
   "cell_type": "markdown",
   "metadata": {},
   "source": [
    "## Process full text"
   ]
  },
  {
   "cell_type": "code",
   "execution_count": 2,
   "metadata": {},
   "outputs": [],
   "source": [
    "import spacy\n",
    "\n",
    "nlp = spacy.load('en')\n",
    "\n",
    "# Process `text` with Spacy NLP Parser\n",
    "text = read_file('data/pride_and_prejudice.txt')\n",
    "processed_text = nlp(text)"
   ]
  },
  {
   "cell_type": "code",
   "execution_count": 5,
   "metadata": {},
   "outputs": [
    {
     "name": "stdout",
     "output_type": "stream",
     "text": [
      "7765\n",
      "[*, ** START OF THIS PROJECT GUTENBERG EBOOK PRIDE AND, PREJUDICE ***\n",
      "\n",
      "\n",
      "\n",
      "\n",
      "Produced by Anonymous Volunteers\n",
      "\n",
      "\n",
      "\n",
      "\n",
      "\n",
      "PRIDE AND PREJUDICE\n",
      "\n",
      "By Jane Austen\n",
      "\n",
      "\n",
      "\n",
      "Chapter 1\n",
      "\n",
      "\n",
      ", It is a truth universally acknowledged, that a single man in possession\n",
      "of a good fortune, must be in want of a wife.\n",
      "\n",
      ", However little known the feelings or views of such a man may be on his\n",
      "first entering a neighbourhood, this truth is so well fixed in the minds\n",
      "of the surrounding families, that he is considered the rightful property\n",
      "of some one or other of their daughters.\n",
      "\n",
      "]\n"
     ]
    }
   ],
   "source": [
    "# How many sentences are in the book (Pride & Prejudice)?\n",
    "sentences = [s for s in processed_text.sents]\n",
    "print(len(sentences))\n",
    "\n",
    "# Print sentences from index 10 to index 15, to make sure that we have parsed the correct book\n",
    "print(sentences[10:15])"
   ]
  },
  {
   "cell_type": "markdown",
   "metadata": {},
   "source": [
    "## Find all the personal names"
   ]
  },
  {
   "cell_type": "code",
   "execution_count": 3,
   "metadata": {},
   "outputs": [
    {
     "name": "stdout",
     "output_type": "stream",
     "text": [
      "[('Elizabeth', 620), ('Darcy', 364), ('Bennet', 290), ('Jane', 285), ('Bingley', 252), ('Wickham', 185), ('Collins', 178), ('Gardiner', 94), ('Lizzy', 93), ('Lady Catherine', 84), ('Kitty', 69), ('Longbourn', 60), ('Lydia', 50), ('Charlotte', 45), ('Pemberley', 42), ('Forster', 39), ('Mary', 37), ('William', 34), ('Hurst', 33), ('Fitzwilliam', 33)]\n"
     ]
    }
   ],
   "source": [
    "# Extract all the personal names from Pride & Prejudice and count their occurrences. \n",
    "# Expected output is a list in the following form: [('elizabeth', 622), ('darcy', 312), ('jane', 286), ('bennet', 266) ...].\n",
    "\n",
    "from collections import Counter, defaultdict\n",
    "\n",
    "def find_character_occurences(doc):\n",
    "    \"\"\"\n",
    "    Return a list of actors from `doc` with corresponding occurences.\n",
    "    \n",
    "    :param doc: Spacy NLP parsed document\n",
    "    :return: list of tuples in form\n",
    "        [('elizabeth', 622), ('darcy', 312), ('jane', 286), ('bennet', 266)]\n",
    "    \"\"\"\n",
    "    \n",
    "    characters = Counter()\n",
    "    for ent in processed_text.ents:\n",
    "        if ent.label_ == 'PERSON':\n",
    "            characters[ent.lemma_] += 1\n",
    "            \n",
    "    return characters.most_common()\n",
    "\n",
    "print(find_character_occurences(processed_text)[:20])"
   ]
  },
  {
   "cell_type": "markdown",
   "metadata": {},
   "source": [
    "## Plot characters personal names as a time series "
   ]
  },
  {
   "cell_type": "code",
   "execution_count": 4,
   "metadata": {},
   "outputs": [],
   "source": [
    "# Matplotlib Jupyter HACK\n",
    "%matplotlib inline\n",
    "\n",
    "import matplotlib\n",
    "import numpy as np\n",
    "import matplotlib.pyplot as plt"
   ]
  },
  {
   "cell_type": "code",
   "execution_count": 5,
   "metadata": {},
   "outputs": [
    {
     "data": {
      "text/plain": [
       "['1.d.',\n",
       " 'Amongst',\n",
       " 'Anne',\n",
       " 'Annesley',\n",
       " 'Anonymous Volunteers',\n",
       " 'Away',\n",
       " 'Aye',\n",
       " 'Barnet',\n",
       " 'Bell',\n",
       " 'Bennet',\n",
       " 'Bennets',\n",
       " 'Bingley',\n",
       " 'Bromley',\n",
       " 'Caroline',\n",
       " 'Caroline Bingley',\n",
       " 'Carter',\n",
       " 'Catherine',\n",
       " 'Catherine de Bourgh',\n",
       " \"Catherine de Bourgh 's\",\n",
       " 'Charles',\n",
       " 'Charlotte',\n",
       " 'Charlotte Lucas',\n",
       " 'Collins',\n",
       " 'Collinses',\n",
       " 'Console Lady Catherine',\n",
       " 'Contributions',\n",
       " 'Darcy',\n",
       " 'Darcy _',\n",
       " 'Darcy!--and',\n",
       " 'Darcy:--but',\n",
       " 'Dawson',\n",
       " 'Dearest Jane',\n",
       " 'Denny',\n",
       " 'Derbyshire',\n",
       " 'Easter',\n",
       " 'Eliza',\n",
       " 'Eliza Bennet',\n",
       " 'Eliza!--to',\n",
       " 'Elizabeth',\n",
       " 'Elizabeth Bennet',\n",
       " 'F.',\n",
       " 'Fitzwilliam',\n",
       " 'Forster',\n",
       " 'Gardiner',\n",
       " 'Gardiners',\n",
       " 'George',\n",
       " 'George Wickham',\n",
       " 'Georgiana Darcy',\n",
       " 'God',\n",
       " 'Grantley',\n",
       " 'Gregory B. Newby',\n",
       " 'Gutenberg',\n",
       " 'Gutenberg - tm',\n",
       " 'Gutenberg - tm license',\n",
       " 'Gutenberg License',\n",
       " 'Haggerston',\n",
       " 'Harriet',\n",
       " 'Hatfield',\n",
       " 'Hertfordshire',\n",
       " 'Hill',\n",
       " 'Hunsford Lane',\n",
       " 'Hurst',\n",
       " 'James',\n",
       " 'Jane',\n",
       " 'Jane Austen',\n",
       " 'Jane Bennet',\n",
       " 'Jenkinson',\n",
       " 'John',\n",
       " 'Jones',\n",
       " 'Kent',\n",
       " 'King',\n",
       " 'Kitty',\n",
       " 'Kympton',\n",
       " 'LICENSE',\n",
       " 'Lady',\n",
       " 'Lady Anne',\n",
       " 'Lady Anne Darcy',\n",
       " 'Lady Catherine',\n",
       " \"Lady Catherine 's\",\n",
       " 'Lady Catherine de \\n Bourgh',\n",
       " 'Lady Catherine de \\n bourgh',\n",
       " 'Lady Catherine de Bourgh',\n",
       " 'Lady Lucas',\n",
       " \"Lady Metcalf 's\",\n",
       " 'Lambton',\n",
       " 'Lewis de Bourgh',\n",
       " \"Lewis de Bourgh 's\",\n",
       " 'Lizzy',\n",
       " 'Long',\n",
       " 'Longbourn',\n",
       " 'Louisa',\n",
       " 'Lucas',\n",
       " 'Lucases',\n",
       " 'Lydia',\n",
       " 'Lydia Bennet',\n",
       " 'Lydia Wickham',\n",
       " 'Madam',\n",
       " 'Mamma',\n",
       " 'Maria',\n",
       " 'Maria Lucas',\n",
       " 'Mary',\n",
       " 'Mary King',\n",
       " 'Meryton',\n",
       " 'Michael S. Hart',\n",
       " 'Michaelmas',\n",
       " 'Miller',\n",
       " 'Miss Bennet',\n",
       " 'Miss King',\n",
       " 'Miss Lucas',\n",
       " 'Miss de Bourgh',\n",
       " \"Miss de Bourgh 's\",\n",
       " 'Morris',\n",
       " 'Netherfield',\n",
       " 'Nicholls',\n",
       " 'North',\n",
       " 'Oxford',\n",
       " 'Pemberley',\n",
       " 'Pemberley Woods',\n",
       " 'Pen',\n",
       " 'Phillip',\n",
       " 'Phillips',\n",
       " 'Poor Kitty',\n",
       " 'Poor Lydia',\n",
       " 'Poor Reynolds',\n",
       " 'Pope',\n",
       " 'Pratt',\n",
       " 'Project Gutenberg',\n",
       " 'Project Gutenberg - tm',\n",
       " \"Project Gutenberg - tm 's\",\n",
       " 'Pulvis Lodge',\n",
       " 'Reynolds',\n",
       " 'Robinson',\n",
       " 'Rosings',\n",
       " 'S. \\n Fairbanks',\n",
       " 'Sally',\n",
       " 'Sarah',\n",
       " 'Scotch',\n",
       " 'Stone',\n",
       " 'Surprise',\n",
       " 'Till Elizabeth',\n",
       " 'Tis',\n",
       " 'Volunteers',\n",
       " 'W.',\n",
       " 'Watson',\n",
       " 'Wickham',\n",
       " 'William',\n",
       " 'William Goulding',\n",
       " 'William Lucas',\n",
       " \"William Lucas 's\",\n",
       " 'Words',\n",
       " 'Younge',\n",
       " 'Yours',\n",
       " 'attendance',\n",
       " 'bennet',\n",
       " 'between Elizabeth',\n",
       " 'chapter',\n",
       " 'darcy',\n",
       " 'de Bourgh',\n",
       " 'donation',\n",
       " 'fatigue',\n",
       " 'girl',\n",
       " 'have Elizabeth',\n",
       " 'her_. Elizabeth',\n",
       " 'i. \"',\n",
       " 'jane',\n",
       " 'longbourn',\n",
       " 'lucas',\n",
       " 'pemberley',\n",
       " 'phillipse',\n",
       " 'poor Charlotte',\n",
       " 'richard',\n",
       " 'rosing',\n",
       " 'tease',\n",
       " 'tis',\n",
       " 'unhappy',\n",
       " 'wickham']"
      ]
     },
     "execution_count": 5,
     "metadata": {},
     "output_type": "execute_result"
    }
   ],
   "source": [
    "# Plot characters' mentions as a time series relative to the position of the actor's occurrence in a book.\n",
    "\n",
    "def get_character_offsets(doc):\n",
    "    \"\"\"\n",
    "    For every character in a `doc` collect all the occurences offsets and store them into a list. \n",
    "    The function returns a dictionary that has actor lemma as a key and list of occurences as a value for every character.\n",
    "    \n",
    "    :param doc: Spacy NLP parsed document\n",
    "    :return: dict object in form\n",
    "        {'elizabeth': [123, 543, 4534], 'darcy': [205, 2111]}\n",
    "    \"\"\"\n",
    "    \n",
    "    character_offsets = defaultdict(list)\n",
    "    for ent in doc.ents:\n",
    "        if ent.label_ == 'PERSON':\n",
    "            character_offsets[ent.lemma_].append(ent.start)\n",
    "            \n",
    "    return dict(character_offsets)\n",
    "\n",
    "character_occurences = get_character_offsets(processed_text)\n",
    "sorted(character_occurences.keys())"
   ]
  },
  {
   "cell_type": "code",
   "execution_count": 6,
   "metadata": {},
   "outputs": [
    {
     "data": {
      "image/png": "[encoded data removed]",
      "text/plain": [
       "<Figure size 432x288 with 1 Axes>"
      ]
     },
     "metadata": {},
     "output_type": "display_data"
    }
   ],
   "source": [
    "from matplotlib.pyplot import hist\n",
    "from cycler import cycler\n",
    "\n",
    "NUM_BINS = 10\n",
    "\n",
    "def normalize(occurencies, normalization_constant):\n",
    "    return [o / float(len(processed_text)) for o in occurencies]\n",
    "\n",
    "def plot_character_timeseries(character_offsets, character_labels, normalization_constant=None):\n",
    "    \"\"\"\n",
    "    Plot characters' personal names specified in `character_labels` list as time series.\n",
    "    \n",
    "    :param character_offsets: dict object in form {'elizabeth': [123, 543, 4534], 'darcy': [205, 2111]}\n",
    "    :param character_labels: list of strings that should match some of the keys in `character_offsets`\n",
    "    :param normalization_constant: int\n",
    "    \"\"\"\n",
    "    x = [character_offsets[character_label] for character_label in character_labels] \n",
    "        \n",
    "    with plt.style.context('fivethirtyeight'):\n",
    "        plt.figure()\n",
    "        n, bins, patches = plt.hist(x, NUM_BINS, label=character_labels)\n",
    "        plt.clf()\n",
    "        \n",
    "        ax = plt.subplot(111)\n",
    "        for i, a in enumerate(n):\n",
    "            ax.plot([float(x) / (NUM_BINS - 1) for x in range(len(a))], a, label=character_labels[i])\n",
    "            \n",
    "        matplotlib.rcParams['axes.prop_cycle'] = cycler(color=['r','k','c','b','y','m','g','#54a1FF'])\n",
    "        ax.legend(loc='center left', bbox_to_anchor=(1, 0.5))\n",
    "\n",
    "plot_character_timeseries(character_occurences, ['Darcy', 'Bingley'], normalization_constant=len(processed_text))\n",
    "#plot_character_timeseries(character_occurences, ['darcy', 'bingley'])"
   ]
  },
  {
   "cell_type": "markdown",
   "metadata": {},
   "source": [
    "## Spacy parse tree in action"
   ]
  },
  {
   "cell_type": "code",
   "execution_count": 7,
   "metadata": {},
   "outputs": [
    {
     "name": "stdout",
     "output_type": "stream",
     "text": [
      "['surprised', 'unwilling', 'least', 'grave', 'late', 'late', 'late', 'late', 'intimate', 'confidential', 'present', 'late', 'superior', 'evident', 'late', 'late', 'poor', 'last', 'little', 'disagreeable', 'clever', 'worth', 'delighted', 'studious', 'sorry', 'unworthy', 'answerable', 'impatient', 'ashamed', 'kind', 'handsome', 'proud', 'tall', 'punctual', 'engage', 'delight', 'fond']\n"
     ]
    }
   ],
   "source": [
    "# Find words (adjectives) that describe Mr. Darcy.\n",
    "\n",
    "def get_character_adjectives(doc, character_lemma):\n",
    "    \"\"\"\n",
    "    Find all the adjectives related to `character_lemma` in `doc`\n",
    "    \n",
    "    :param doc: Spacy NLP parsed document\n",
    "    :param character_lemma: string object\n",
    "    :return: list of adjectives related to `character_lemma`\n",
    "    \"\"\"\n",
    "    \n",
    "    adjectives = []\n",
    "    for ent in processed_text.ents:\n",
    "        if ent.lemma_ == character_lemma:\n",
    "            for token in ent.subtree:\n",
    "                if token.pos_ == 'ADJ': # Replace with if token.dep_ == 'amod':\n",
    "                    adjectives.append(token.lemma_)\n",
    "    \n",
    "    for ent in processed_text.ents:\n",
    "        if ent.lemma_ == character_lemma:\n",
    "            if ent.root.dep_ == 'nsubj':\n",
    "                for child in ent.root.head.children:\n",
    "                    if child.dep_ == 'acomp':\n",
    "                        adjectives.append(child.lemma_)\n",
    "    \n",
    "    return adjectives\n",
    "\n",
    "print(get_character_adjectives(processed_text, 'Darcy'))"
   ]
  },
  {
   "cell_type": "code",
   "execution_count": 26,
   "metadata": {},
   "outputs": [
    {
     "name": "stdout",
     "output_type": "stream",
     "text": [
      "[('Elizabeth', 46), ('Bennet', 30), ('Bingley', 16), ('Darcy', 13), ('Jane', 13), ('Charlotte', 5), ('Lady Catherine', 5), ('Gardiner', 5), ('Fitzwilliam', 5), ('Lizzy', 5)]\n"
     ]
    }
   ],
   "source": [
    "# Find characters that are 'talking', 'saying', 'doing' the most. Find the relationship between \n",
    "# entities and corresponding root verbs.\n",
    "\n",
    "character_verb_counter = Counter()\n",
    "VERB_LEMMA = 'say'\n",
    "\n",
    "for ent in processed_text.ents:\n",
    "    if ent.label_ == 'PERSON' and ent.root.head.lemma_ == VERB_LEMMA:\n",
    "        character_verb_counter[ent.text] += 1\n",
    "\n",
    "print(character_verb_counter.most_common(10)) \n",
    "        \n",
    "# Find all the characters that got married in the book.\n",
    "#\n",
    "# Here is an example sentence from which this information could be extracted:\n",
    "# \n",
    "# \"her mother was talking to that one person (Lady Lucas) freely,\n",
    "# openly, and of nothing else but her expectation that Jane would soon\n",
    "# be married to Mr. Bingley.\"\n",
    "#\n"
   ]
  },
  {
   "cell_type": "code",
   "execution_count": null,
   "metadata": {},
   "outputs": [],
   "source": []
  },
  {
   "cell_type": "markdown",
   "metadata": {},
   "source": [
    "## Extract Keywords"
   ]
  },
  {
   "cell_type": "code",
   "execution_count": 27,
   "metadata": {},
   "outputs": [
    {
     "data": {
      "text/plain": [
       "[('-PRON-', 16),\n",
       " ('Al - Qaeda', 4),\n",
       " ('Daesh', 3),\n",
       " ('terrorism', 3),\n",
       " ('Saudi Arabia', 2),\n",
       " ('the Ministry', 2),\n",
       " ('Interior', 2),\n",
       " ('many country', 2),\n",
       " ('social medium', 2),\n",
       " ('who', 2),\n",
       " ('religion', 2),\n",
       " ('excommunication', 2),\n",
       " ('the responsibility', 2),\n",
       " ('a string', 1),\n",
       " ('deadly shooting', 1),\n",
       " ('bomb attack', 1),\n",
       " ('recent month', 1),\n",
       " ('the Daesh', 1),\n",
       " ('( so - call be ) terrorist organization', 1),\n",
       " ('responsibility', 1)]"
      ]
     },
     "execution_count": 27,
     "metadata": {},
     "output_type": "execute_result"
    }
   ],
   "source": [
    "# Extract Keywords using noun chunks from the news article (file 'article.txt').\n",
    "# Spacy will pick some noun chunks that are not informative at all (e.g. we, what, who).\n",
    "# Try to find a way to remove non informative keywords.\n",
    "\n",
    "article = read_file('data/article.txt')\n",
    "doc = nlp(article)\n",
    "\n",
    "keywords = Counter()\n",
    "for chunk in doc.noun_chunks:\n",
    "    if nlp.vocab[chunk.lemma_].prob < - 8: # probablity value -8 is arbitrarily selected threshold\n",
    "        keywords[chunk.lemma_] += 1\n",
    "\n",
    "keywords.most_common(20)"
   ]
  },
  {
   "cell_type": "code",
   "execution_count": null,
   "metadata": {},
   "outputs": [],
   "source": []
  },
  {
   "cell_type": "code",
   "execution_count": null,
   "metadata": {
    "collapsed": true
   },
   "outputs": [],
   "source": []
  }
 ],
 "metadata": {
  "kernelspec": {
   "display_name": "Python 3",
   "language": "python",
   "name": "python3"
  },
  "language_info": {
   "codemirror_mode": {
    "name": "ipython",
    "version": 3
   },
   "file_extension": ".py",
   "mimetype": "text/x-python",
   "name": "python",
   "nbconvert_exporter": "python",
   "pygments_lexer": "ipython3",
   "version": "3.6.8"
  }
 },
 "nbformat": 4,
 "nbformat_minor": 1
}
